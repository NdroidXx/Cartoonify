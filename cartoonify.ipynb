{
 "cells": [
  {
   "cell_type": "markdown",
   "metadata": {},
   "source": [
    "## Importing The Important Libraries "
   ]
  },
  {
   "cell_type": "code",
   "execution_count": 2,
   "metadata": {},
   "outputs": [],
   "source": [
    "import cv2\n",
    "import numpy as np\n",
    "import time \n",
    "\n",
    "result = \"Cartoonified.jpg\"\n",
    "img_name = \"camera.jpg\"\n",
    "window_name = 'image'"
   ]
  },
  {
   "cell_type": "markdown",
   "metadata": {},
   "source": [
    "## Capturing Photo Using OpenCV2"
   ]
  },
  {
   "cell_type": "markdown",
   "metadata": {},
   "source": []
  },
  {
   "cell_type": "code",
   "execution_count": 3,
   "metadata": {},
   "outputs": [],
   "source": [
    "# Set the timer \n",
    "TIMER = int(3)\n",
    "  \n",
    "# Open the camera\n",
    "cap = cv2.VideoCapture(0)\n",
    "  \n",
    "while True:\n",
    "\n",
    "    prev = time.time()\n",
    "    \n",
    "    while TIMER >= 0:\n",
    "        ret, img = cap.read()\n",
    "\n",
    "        # Display the countdown using cv2.puttext method\n",
    "        font = cv2.FONT_HERSHEY_TRIPLEX\n",
    "        cv2.putText(img, str(TIMER),\n",
    "                    (275, 125), font,\n",
    "                    3, (255, 127, 127),\n",
    "                    3, cv2.LINE_AA)\n",
    "        cv2.imshow('Say Cheese', img)\n",
    "        cv2.waitKey(125)\n",
    "        \n",
    "        # current time\n",
    "        cur = time.time()\n",
    "\n",
    "        # Update \n",
    "        if cur-prev >= 1:\n",
    "            prev = cur\n",
    "            TIMER -=1\n",
    "    \n",
    "    else:\n",
    "        cv2.destroyAllWindows()\n",
    "        ret, img = cap.read()\n",
    "\n",
    "        # Display the clicked frame for 2 Seconds\n",
    "        cv2.imshow('a', img)\n",
    "        cv2.waitKey(2000)\n",
    "        cv2.imwrite(img_name, img)\n",
    "        break\n",
    " \n",
    "# close the camera\n",
    "cap.release()\n",
    "  \n",
    "# close all the opened windows\n",
    "cv2.destroyAllWindows()"
   ]
  },
  {
   "cell_type": "markdown",
   "metadata": {},
   "source": [
    "### Function to Read File"
   ]
  },
  {
   "cell_type": "code",
   "execution_count": 4,
   "metadata": {},
   "outputs": [],
   "source": [
    "def read_img(filename):\n",
    "    img = cv2.imread(filename)\n",
    "    return img"
   ]
  },
  {
   "cell_type": "code",
   "execution_count": 5,
   "metadata": {},
   "outputs": [],
   "source": [
    "# Show the captured image \n",
    "\n",
    "img = read_img(f\"{img_name}\")\n",
    "cv2.imshow(window_name,img)\n",
    "cv2.waitKey(3000)\n",
    "cv2.destroyAllWindows()"
   ]
  },
  {
   "cell_type": "markdown",
   "metadata": {},
   "source": [
    "## Making a function to modify Edges "
   ]
  },
  {
   "cell_type": "code",
   "execution_count": 6,
   "metadata": {},
   "outputs": [],
   "source": [
    "def edge_mask(img, line_size, blur_value):\n",
    "  gray = cv2.cvtColor(img, cv2.COLOR_BGR2GRAY)\n",
    "  gray_blur = cv2.medianBlur(gray, blur_value)\n",
    "  edges = cv2.adaptiveThreshold(gray_blur, 255, cv2.ADAPTIVE_THRESH_MEAN_C, cv2.THRESH_BINARY, line_size, blur_value)\n",
    "  return edges"
   ]
  },
  {
   "cell_type": "code",
   "execution_count": 7,
   "metadata": {},
   "outputs": [],
   "source": [
    "line_size = 5\n",
    "blur_value = 5\n",
    "edges = edge_mask(img, line_size, blur_value)\n",
    "cv2.imshow(window_name,edges)\n",
    "cv2.waitKey(3000)\n",
    "cv2.destroyAllWindows()"
   ]
  },
  {
   "cell_type": "markdown",
   "metadata": {},
   "source": [
    "## Color Quantization Function To Add Cartoon Effect"
   ]
  },
  {
   "cell_type": "code",
   "execution_count": 8,
   "metadata": {},
   "outputs": [],
   "source": [
    "def color_quantization(img,k):\n",
    "    # Transform the Image\n",
    "    data = np.float32(img).reshape((-1,3))\n",
    "\n",
    "    # Determine the criteria\n",
    "    criteria = (cv2.TermCriteria_EPS+ cv2.TermCriteria_MAX_ITER,20,0.001)\n",
    "\n",
    "    #implimenting k mean\n",
    "    ret , label, center = cv2.kmeans(data,k,None,criteria,10,cv2.KMEANS_RANDOM_CENTERS)\n",
    "    center = np.uint8(center)\n",
    "    result= center[label.flatten()]\n",
    "    result = result.reshape(img.shape)\n",
    "\n",
    "    return result\n"
   ]
  },
  {
   "cell_type": "code",
   "execution_count": 9,
   "metadata": {},
   "outputs": [],
   "source": [
    "total_color = 15\n",
    "img = color_quantization(img, total_color)"
   ]
  },
  {
   "cell_type": "code",
   "execution_count": 10,
   "metadata": {},
   "outputs": [],
   "source": [
    "blurred = cv2.bilateralFilter(img, d=5, sigmaColor=100,sigmaSpace=100)"
   ]
  },
  {
   "cell_type": "code",
   "execution_count": 11,
   "metadata": {},
   "outputs": [],
   "source": [
    "cartoon = cv2.bitwise_and(blurred, blurred, mask=edges)\n"
   ]
  },
  {
   "cell_type": "code",
   "execution_count": 12,
   "metadata": {},
   "outputs": [],
   "source": [
    "cv2.imshow(window_name,cartoon)\n",
    "cv2.waitKey(5000)\n",
    "cv2.imwrite(result,cartoon)\n",
    "cv2.destroyAllWindows()"
   ]
  }
 ],
 "metadata": {
  "interpreter": {
   "hash": "9e27fff8e48bcb6c1647d4a689b249aca2a0a038f627016b90ad12a7a7ea98ed"
  },
  "kernelspec": {
   "display_name": "Python 3.9.10 64-bit",
   "language": "python",
   "name": "python3"
  },
  "language_info": {
   "codemirror_mode": {
    "name": "ipython",
    "version": 3
   },
   "file_extension": ".py",
   "mimetype": "text/x-python",
   "name": "python",
   "nbconvert_exporter": "python",
   "pygments_lexer": "ipython3",
   "version": "3.9.10"
  },
  "orig_nbformat": 4
 },
 "nbformat": 4,
 "nbformat_minor": 2
}
